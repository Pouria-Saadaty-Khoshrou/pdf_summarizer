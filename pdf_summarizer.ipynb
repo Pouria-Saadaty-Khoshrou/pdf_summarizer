{
 "cells": [
  {
   "cell_type": "code",
   "execution_count": 22,
   "id": "eb952736-9ec4-4ecb-bf1b-9751f4cc0b04",
   "metadata": {},
   "outputs": [],
   "source": [
    "import fitz\n",
    "import os\n",
    "from openai import OpenAI\n",
    "from IPython.display import Markdown, display\n",
    "import ollama"
   ]
  },
  {
   "cell_type": "code",
   "execution_count": 10,
   "id": "420a327b-693b-4734-89ab-e5fdb7f5138c",
   "metadata": {},
   "outputs": [],
   "source": [
    "def pdf_opener():\n",
    "    name = input('insert your pdf name: ')\n",
    "    if name.lower().endswith('.pdf'):   \n",
    "        with fitz.open(name) as pdf:\n",
    "            text = \"\"\n",
    "            for page in pdf:\n",
    "                text += page.get_text()\n",
    "        return text\n",
    "\n",
    "    else:\n",
    "        print('file name has not file extension')"
   ]
  },
  {
   "cell_type": "code",
   "execution_count": 12,
   "id": "36cc513b-3109-43cd-bb3b-f9c17141815a",
   "metadata": {},
   "outputs": [],
   "source": [
    "system_prompt = \"You are an assistant that analyzes the contents of a pdf as python string. \\\n",
    "Provide a short summery and create some questions that you think is important\\\n",
    "and has possibility come to exam and after each question write the answer with\\\n",
    "this format 'Answer: '. give all the answers in markdown\""
   ]
  },
  {
   "cell_type": "code",
   "execution_count": 17,
   "id": "ef48b3b5-1873-4a24-9061-ed9654adfd35",
   "metadata": {},
   "outputs": [],
   "source": [
    "def user_prompt(pdf):\n",
    "    user_prompt = f\"You are looking at a pdf titled: \"\n",
    "    user_prompt += \"\\nThe contents of this pdf is as follows; \\\n",
    "    please provide a short summary of this pdf in markdown. \\\n",
    "    and the questation as follows; provide questations in markdown \\n\\n\"\n",
    "    user_prompt += pdf\n",
    "    return user_prompt"
   ]
  },
  {
   "cell_type": "code",
   "execution_count": 20,
   "id": "14885f62-e802-44d4-bb30-9073a5fc4c89",
   "metadata": {},
   "outputs": [
    {
     "name": "stdin",
     "output_type": "stream",
     "text": [
      "insert your pdf name:  GENAI-DRIVENELECTRONICSINNOVATION.pdf\n"
     ]
    }
   ],
   "source": [
    "user_pdf = pdf_opener()\n",
    "\n",
    "messages = [\n",
    "    {'role': 'system', 'content':system_prompt},\n",
    "    {'role': 'user', 'content':user_prompt(user_pdf)}\n",
    "]"
   ]
  },
  {
   "cell_type": "code",
   "execution_count": null,
   "id": "d13a7bea-3aa9-48ca-94be-36bef638f3a2",
   "metadata": {},
   "outputs": [],
   "source": [
    "response = ollama.chat(model='llama3.2', messages=messages)\n",
    "display(Markdown(response['message']['content']))"
   ]
  },
  {
   "cell_type": "code",
   "execution_count": null,
   "id": "858513dd-058b-48f6-a6a2-a48fdba1002f",
   "metadata": {},
   "outputs": [],
   "source": []
  }
 ],
 "metadata": {
  "kernelspec": {
   "display_name": "Python 3 (ipykernel)",
   "language": "python",
   "name": "python3"
  },
  "language_info": {
   "codemirror_mode": {
    "name": "ipython",
    "version": 3
   },
   "file_extension": ".py",
   "mimetype": "text/x-python",
   "name": "python",
   "nbconvert_exporter": "python",
   "pygments_lexer": "ipython3",
   "version": "3.11.11"
  }
 },
 "nbformat": 4,
 "nbformat_minor": 5
}
