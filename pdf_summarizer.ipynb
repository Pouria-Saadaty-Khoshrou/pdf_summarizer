{
 "cells": [
  {
   "cell_type": "code",
   "execution_count": 22,
   "id": "eb952736-9ec4-4ecb-bf1b-9751f4cc0b04",
   "metadata": {},
   "outputs": [],
   "source": [
    "import fitz\n",
    "import os\n",
    "from openai import OpenAI\n",
    "from IPython.display import Markdown, display\n",
    "import ollama"
   ]
  },
  {
   "cell_type": "code",
   "execution_count": 10,
   "id": "420a327b-693b-4734-89ab-e5fdb7f5138c",
   "metadata": {},
   "outputs": [],
   "source": [
    "def pdf_opener():\n",
    "    name = input('insert your pdf name: ')\n",
    "    if name.lower().endswith('.pdf'):   \n",
    "        with fitz.open(name) as pdf:\n",
    "            text = \"\"\n",
    "            for page in pdf:\n",
    "                text += page.get_text()\n",
    "        return text\n",
    "\n",
    "    else:\n",
    "        print('file name has not file extension')"
   ]
  },
  {
   "cell_type": "code",
   "execution_count": 12,
   "id": "36cc513b-3109-43cd-bb3b-f9c17141815a",
   "metadata": {},
   "outputs": [],
   "source": [
    "system_prompt = \"You are an assistant that analyzes the contents of a PDF provided as a Python string. \\\n",
    "Your task is to:\\n\\\n",
    "1. Provide a **short summary** of the content in **markdown** format.\\n \\\n",
    "2. Create **important questions** that might be relevant for an exam based on the content.\\n \\\n",
    "3. After each question, write the answer in this format: `Answer: <answer>`.\\n \\\n",
    "Return all content in **markdown** format. \""
   ]
  },
  {
   "cell_type": "code",
   "execution_count": 17,
   "id": "ef48b3b5-1873-4a24-9061-ed9654adfd35",
   "metadata": {},
   "outputs": [],
   "source": [
    "def user_prompt(pdf):\n",
    "    user_prompt = f\"You are looking at a pdf titled: \"\n",
    "    user_prompt += \"\\nThe contents of this pdf is as follows; \\\n",
    "    please provide a short summary of this pdf in markdown. \\\n",
    "    and the questation as follows; provide questations in markdown \\n\\n\"\n",
    "    user_prompt += pdf\n",
    "    return user_prompt"
   ]
  },
  {
   "cell_type": "code",
   "execution_count": 20,
   "id": "14885f62-e802-44d4-bb30-9073a5fc4c89",
   "metadata": {},
   "outputs": [
    {
     "name": "stdin",
     "output_type": "stream",
     "text": [
      "insert your pdf name:  GENAI-DRIVENELECTRONICSINNOVATION.pdf\n"
     ]
    }
   ],
   "source": [
    "user_pdf = pdf_opener()\n",
    "\n",
    "messages = [\n",
    "    {'role': 'system', 'content':system_prompt},\n",
    "    {'role': 'user', 'content':user_prompt(user_pdf)}\n",
    "]"
   ]
  },
  {
   "cell_type": "code",
   "execution_count": 23,
   "id": "d13a7bea-3aa9-48ca-94be-36bef638f3a2",
   "metadata": {},
   "outputs": [
    {
     "data": {
      "text/markdown": [
       "This is not a typical academic paper, but rather a collection of articles and publications related to Artificial Intelligence (AI) and Generative AI. The format appears to be a mix of traditional academic papers, conference proceedings, and book chapters.\n",
       "\n",
       "Here's a breakdown of the content:\n",
       "\n",
       "1. **Introduction**: A brief overview of the significance of AI and Generative AI in various fields, including education, software development, music generation, marketing, and more.\n",
       "2. **Articles**:\n",
       "\t* \"Explainable artificial intelligence in education\" (2022)\n",
       "\t* \"Artificial intelligence and software engineering: Are we ready?\" (2022)\n",
       "\t* \"Generative Artificial Intelligence\" (2013)\n",
       "\t* ...and many others\n",
       "3. **Conference Proceedings**:\n",
       "\t* International Congress on Models and Methods in Modern investigations (Poland, 2023) - a collection of papers presented at the conference.\n",
       "4. **Book Chapters**:\n",
       "\t* \"Generative Deep Learning: Teaching Machines to Paint\" (2019)\n",
       "5. **Research Papers**:\n",
       "\t* Various research papers on AI-related topics, including Generative AI, deep learning, and more.\n",
       "\n",
       "This content appears to be a collection of articles, book chapters, and conference proceedings related to AI and Generative AI. The purpose of this publication is likely to provide a comprehensive overview of the current state of AI research and its applications in various fields.\n",
       "\n",
       "Some potential takeaways from this publication include:\n",
       "\n",
       "* The growing importance of Explainable AI (XAI) in education\n",
       "* The increasing use of Generative AI in software development, music generation, and other areas\n",
       "* The challenges and opportunities presented by AI and Generative AI in marketing, customer service, and more\n",
       "\n",
       "However, without more context or information about the publication's purpose, scope, and intended audience, it is difficult to provide a more detailed analysis."
      ],
      "text/plain": [
       "<IPython.core.display.Markdown object>"
      ]
     },
     "metadata": {},
     "output_type": "display_data"
    }
   ],
   "source": [
    "response = ollama.chat(model='llama3.2', messages=messages)\n",
    "display(Markdown(response['message']['content']))"
   ]
  },
  {
   "cell_type": "code",
   "execution_count": null,
   "id": "858513dd-058b-48f6-a6a2-a48fdba1002f",
   "metadata": {},
   "outputs": [],
   "source": []
  }
 ],
 "metadata": {
  "kernelspec": {
   "display_name": "Python 3 (ipykernel)",
   "language": "python",
   "name": "python3"
  },
  "language_info": {
   "codemirror_mode": {
    "name": "ipython",
    "version": 3
   },
   "file_extension": ".py",
   "mimetype": "text/x-python",
   "name": "python",
   "nbconvert_exporter": "python",
   "pygments_lexer": "ipython3",
   "version": "3.11.11"
  }
 },
 "nbformat": 4,
 "nbformat_minor": 5
}
