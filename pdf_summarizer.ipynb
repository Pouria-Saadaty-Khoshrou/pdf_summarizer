{
 "cells": [
  {
   "cell_type": "code",
   "execution_count": 22,
   "id": "eb952736-9ec4-4ecb-bf1b-9751f4cc0b04",
   "metadata": {},
   "outputs": [],
   "source": [
    "import fitz\n",
    "import os\n",
    "from openai import OpenAI\n",
    "from IPython.display import Markdown, display\n",
    "import ollama"
   ]
  },
  {
   "cell_type": "code",
   "execution_count": 41,
   "id": "420a327b-693b-4734-89ab-e5fdb7f5138c",
   "metadata": {},
   "outputs": [],
   "source": [
    "def pdf_opener():\n",
    "    name = input('insert your pdf name: ')\n",
    "    if name.lower().endswith('.pdf'):   \n",
    "        with fitz.open(name) as pdf:\n",
    "            text = \"\"\n",
    "            for page in pdf:\n",
    "                text += page.get_text()\n",
    "        return text\n",
    "\n",
    "    else:\n",
    "        print('file name has not file extension')"
   ]
  },
  {
   "cell_type": "code",
   "execution_count": 26,
   "id": "36cc513b-3109-43cd-bb3b-f9c17141815a",
   "metadata": {},
   "outputs": [],
   "source": [
    "system_prompt = \"You are an assistant that analyzes the contents of a PDF provided as a Python string. \\\n",
    "Your task is to:\\n\\\n",
    "1. Provide a **short summary** of the content in **markdown** format.\\n\\\n",
    "2. Create **important questions** that might be relevant for an exam based on the content.\\n\\\n",
    "3. After each question, write the answer in this format: `Answer: <answer>`.\\n\\\n",
    "Return all content in **markdown** format.\""
   ]
  },
  {
   "cell_type": "code",
   "execution_count": 44,
   "id": "ef48b3b5-1873-4a24-9061-ed9654adfd35",
   "metadata": {},
   "outputs": [],
   "source": [
    "def user_prompt(pdf_content):\n",
    "    prompt = f\"You are analyzing a PDF titled\\n\\n\"\n",
    "    prompt += \"The contents of the PDF are provided below.\\n\\n\"\n",
    "    prompt += \"Please do the following:\\n\"\n",
    "    prompt += \"- Summarize the content in **markdown**.\\n\"\n",
    "    prompt += \"- Generate a list of potential **exam questions** with answers.\\n\"\n",
    "    prompt += \"- Each question should be followed by its **answer**, formatted as `Answer: <your answer>`.\\n\\n\"\n",
    "    prompt += \"### PDF Content:\\n\"\n",
    "    prompt += pdf_content\n",
    "    return prompt"
   ]
  },
  {
   "cell_type": "code",
   "execution_count": 45,
   "id": "14885f62-e802-44d4-bb30-9073a5fc4c89",
   "metadata": {},
   "outputs": [
    {
     "name": "stdin",
     "output_type": "stream",
     "text": [
      "insert your pdf name:  GENAI-DRIVENELECTRONICSINNOVATION.pdf\n"
     ]
    }
   ],
   "source": [
    "user_pdf = pdf_opener()\n",
    "\n",
    "messages = [\n",
    "    {'role': 'system', 'content':system_prompt},\n",
    "    {'role': 'user', 'content':user_prompt(user_pdf)}\n",
    "]"
   ]
  },
  {
   "cell_type": "code",
   "execution_count": 46,
   "id": "d13a7bea-3aa9-48ca-94be-36bef638f3a2",
   "metadata": {},
   "outputs": [
    {
     "data": {
      "text/markdown": [
       "The provided text appears to be a conference proceedings or a research paper presentation from the International Congress on Models and Methods in Modern investigations (Poland) held in 2023.\n",
       "\n",
       "Here are some observations and conclusions that can be drawn from this text:\n",
       "\n",
       "1. **Variety of topics**: The presented papers cover a wide range of topics, including artificial intelligence, machine learning, computer science, electronics, and education.\n",
       "2. **Artificial Intelligence (AI)**: AI is a dominant theme in the presented papers, with many authors exploring its applications, benefits, and challenges in various fields.\n",
       "3. **Generative models**: Generative models, such as Generative Adversarial Networks (GANs) and Variational Autoencoders (VAEs), are widely used in the papers to solve complex problems, including image generation, data augmentation, and defect detection.\n",
       "4. **Education and AI**: There is a focus on the role of AI in education, with some authors exploring its potential impact on learning outcomes and the need for educators to develop new skills to effectively integrate AI into their teaching practices.\n",
       "5. **Methodological approaches**: The papers employ various methodological approaches, including systematic reviews, literature analyses, and experimental studies, to evaluate the effectiveness of AI-based solutions in different domains.\n",
       "6. **Collaboration and networking**: The conference proceedings suggest a high level of collaboration among researchers from diverse backgrounds, with many authors referencing previous work or collaborating on joint projects.\n",
       "\n",
       "Some potential future directions for research in this field might include:\n",
       "\n",
       "1. **Exploring the ethics of AI in education**: As AI becomes more prevalent in educational settings, it is essential to examine its potential impact on student learning outcomes and teacher training.\n",
       "2. **Developing more effective generative models**: Researchers may focus on improving the performance of generative models, such as GANs and VAEs, to tackle complex problems in areas like image generation, data augmentation, and defect detection.\n",
       "3. **Integrating AI into various industries**: As AI becomes increasingly ubiquitous, researchers may explore its applications in diverse sectors, including healthcare, finance, and environmental science.\n",
       "\n",
       "Overall, the conference proceedings provide a valuable snapshot of current research trends and advancements in the field of artificial intelligence and related areas."
      ],
      "text/plain": [
       "<IPython.core.display.Markdown object>"
      ]
     },
     "metadata": {},
     "output_type": "display_data"
    }
   ],
   "source": [
    "response = ollama.chat(model='llama3.2', messages=messages)\n",
    "display(Markdown(response['message']['content']))"
   ]
  },
  {
   "cell_type": "code",
   "execution_count": null,
   "id": "858513dd-058b-48f6-a6a2-a48fdba1002f",
   "metadata": {},
   "outputs": [],
   "source": []
  }
 ],
 "metadata": {
  "kernelspec": {
   "display_name": "Python 3 (ipykernel)",
   "language": "python",
   "name": "python3"
  },
  "language_info": {
   "codemirror_mode": {
    "name": "ipython",
    "version": 3
   },
   "file_extension": ".py",
   "mimetype": "text/x-python",
   "name": "python",
   "nbconvert_exporter": "python",
   "pygments_lexer": "ipython3",
   "version": "3.11.11"
  }
 },
 "nbformat": 4,
 "nbformat_minor": 5
}
